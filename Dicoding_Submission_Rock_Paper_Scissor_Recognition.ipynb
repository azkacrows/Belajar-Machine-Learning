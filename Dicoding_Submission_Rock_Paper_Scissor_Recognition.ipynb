{
  "nbformat": 4,
  "nbformat_minor": 0,
  "metadata": {
    "colab": {
      "provenance": [],
      "authorship_tag": "ABX9TyOVpM3pMnkIJl5KEdkzzh5N"
    },
    "kernelspec": {
      "name": "python3",
      "display_name": "Python 3"
    },
    "language_info": {
      "name": "python"
    }
  },
  "cells": [
    {
      "cell_type": "markdown",
      "source": [
        "# Profil Diri\n",
        "---\n",
        "Nama: Muhammad Jamal Luthfi\n",
        "\n",
        "Username: azkacrows\n",
        "\n",
        "Sekolah  : SMK Tamansiswa Mojoagung\n",
        "\n",
        "Email: azka.achill@gmail.com\n",
        "\n",
        "Domisili: Jombang, Jawa Timur\n",
        "\n",
        "---"
      ],
      "metadata": {
        "id": "vAZE_MaZAVwL"
      }
    },
    {
      "cell_type": "markdown",
      "source": [
        "#Import librari yang dibutuhkan"
      ],
      "metadata": {
        "id": "Lw_qq_-SAZ2q"
      }
    },
    {
      "cell_type": "code",
      "source": [
        "import os\n",
        "import zipfile\n",
        "import numpy as np\n",
        "import tensorflow as tf\n",
        "import keras.preprocessing\n",
        "from google.colab import files\n",
        "import matplotlib.pyplot as plt\n",
        "from keras.preprocessing import image\n",
        "from keras.preprocessing.image import ImageDataGenerator"
      ],
      "metadata": {
        "id": "NlFLk_yoCZZu"
      },
      "execution_count": null,
      "outputs": []
    },
    {
      "cell_type": "markdown",
      "source": [
        "#Download dan ekstrak dataset"
      ],
      "metadata": {
        "id": "WU-EpxbjAjmC"
      }
    },
    {
      "cell_type": "code",
      "source": [
        "!wget --no-check-certificate \\\n",
        " https://github.com/dicodingacademy/assets/releases/download/release/rockpaperscissors.zip \\\n",
        " -O /tmp/rockpaperscissors.zip\n",
        "\n",
        "local_zip = '/tmp/rockpaperscissors.zip'\n",
        "with zipfile.ZipFile(local_zip, 'r') as zip_ref:\n",
        "    zip_ref.extractall('/tmp/')\n",
        "\n",
        "base_dir = \"/tmp/rockpaperscissors/rps-cv-images/\""
      ],
      "metadata": {
        "id": "_iJQ7m3fDJj0"
      },
      "execution_count": null,
      "outputs": []
    },
    {
      "cell_type": "markdown",
      "source": [
        "#Image data generator dengan augmentasi untuk data pelatihan dan validasi"
      ],
      "metadata": {
        "id": "Y2749FDTAzQR"
      }
    },
    {
      "cell_type": "code",
      "source": [
        "train_datagen = ImageDataGenerator(\n",
        "    rescale=1./255,\n",
        "    rotation_range=40,\n",
        "    width_shift_range=0.2,\n",
        "    height_shift_range=0.2,\n",
        "    shear_range=0.2,\n",
        "    zoom_range=0.2,\n",
        "    horizontal_flip=True,\n",
        "    fill_mode='nearest',\n",
        "    validation_split=0.4\n",
        ")\n"
      ],
      "metadata": {
        "id": "6l3JFbdwDlw7"
      },
      "execution_count": null,
      "outputs": []
    },
    {
      "cell_type": "markdown",
      "source": [
        "#Train generator data"
      ],
      "metadata": {
        "id": "cxGmSiIZDztT"
      }
    },
    {
      "cell_type": "code",
      "source": [
        "train_generator = train_datagen.flow_from_directory(\n",
        "    base_dir,\n",
        "    target_size=(150, 150),\n",
        "    batch_size=32,\n",
        "    class_mode='categorical',\n",
        "    shuffle=True,\n",
        "    subset='training'\n",
        ")"
      ],
      "metadata": {
        "id": "W7_OQb5tD3Lq"
      },
      "execution_count": null,
      "outputs": []
    },
    {
      "cell_type": "markdown",
      "source": [
        "#Validasi data"
      ],
      "metadata": {
        "id": "Q25SndrZEHG6"
      }
    },
    {
      "cell_type": "code",
      "source": [
        "validation_generator = train_datagen.flow_from_directory(\n",
        "    base_dir,\n",
        "    target_size=(150, 150),\n",
        "    batch_size=32,\n",
        "    class_mode='categorical',\n",
        "    shuffle=True,\n",
        "    subset='validation'\n",
        ")"
      ],
      "metadata": {
        "id": "0_RgSezaEGbC"
      },
      "execution_count": null,
      "outputs": []
    },
    {
      "cell_type": "markdown",
      "source": [
        "#Model sekuensial"
      ],
      "metadata": {
        "id": "ZNqwR_a8EaPh"
      }
    },
    {
      "cell_type": "code",
      "source": [
        "model = tf.keras.models.Sequential([\n",
        "    tf.keras.layers.Conv2D(16, (3,3), activation='relu', input_shape=(150, 150, 3)),\n",
        "    tf.keras.layers.MaxPooling2D(2, 2),\n",
        "    tf.keras.layers.Conv2D(32, (3,3), activation='relu'),\n",
        "    tf.keras.layers.MaxPooling2D(2, 2),\n",
        "    tf.keras.layers.Conv2D(32, (3,3), activation='relu'),\n",
        "    tf.keras.layers.MaxPooling2D(2, 2),\n",
        "    tf.keras.layers.Flatten(),\n",
        "    tf.keras.layers.Dropout(0.5),\n",
        "    tf.keras.layers.Dense(128, activation='relu'),\n",
        "    tf.keras.layers.Dense(512, activation='relu'),\n",
        "    tf.keras.layers.Dense(3, activation='softmax')\n",
        "])\n",
        "\n",
        "model.summary()"
      ],
      "metadata": {
        "id": "PdrEE2PcEd8h"
      },
      "execution_count": null,
      "outputs": []
    },
    {
      "cell_type": "markdown",
      "source": [
        "callback"
      ],
      "metadata": {
        "id": "RcSiA0VSEkyB"
      }
    },
    {
      "cell_type": "code",
      "source": [
        "class myCallback(tf.keras.callbacks.Callback):\n",
        "    def on_epoch_end(self, epoch, logs={}):\n",
        "        if logs.get('accuracy') > 0.96 and logs.get('val_accuracy') > 0.96:\n",
        "            print(\"\\nPelatihan dihentikan, akurasi model telah mencapai di atas 96%!\")\n",
        "            self.model.stop_training = True\n",
        "\n",
        "callbacks = myCallback()"
      ],
      "metadata": {
        "id": "i5SrkCqSEkRB"
      },
      "execution_count": null,
      "outputs": []
    },
    {
      "cell_type": "markdown",
      "source": [
        "#Compile model"
      ],
      "metadata": {
        "id": "GLuPFME_EvH4"
      }
    },
    {
      "cell_type": "code",
      "source": [
        "model.compile(\n",
        "    loss='categorical_crossentropy',\n",
        "    optimizer='adam',\n",
        "    metrics=['accuracy']\n",
        ")"
      ],
      "metadata": {
        "id": "zjJFoaSLEy74"
      },
      "execution_count": null,
      "outputs": []
    },
    {
      "cell_type": "markdown",
      "source": [
        "#Train model"
      ],
      "metadata": {
        "id": "dJLTK88-E_VB"
      }
    },
    {
      "cell_type": "code",
      "source": [
        "history = model.fit(\n",
        "    train_generator,\n",
        "    steps_per_epoch=train_generator.samples // train_generator.batch_size,\n",
        "    epochs=10,\n",
        "    validation_data=validation_generator,\n",
        "    validation_steps=validation_generator.samples // validation_generator.batch_size,\n",
        "    callbacks=[callbacks],\n",
        "    verbose=2\n",
        ")"
      ],
      "metadata": {
        "id": "JwZqLwPTFBPq"
      },
      "execution_count": null,
      "outputs": []
    },
    {
      "cell_type": "markdown",
      "source": [
        "# Ploting akurasi training dan validasi"
      ],
      "metadata": {
        "id": "FelCIh4SFPcv"
      }
    },
    {
      "cell_type": "code",
      "source": [
        "acc = history.history['accuracy']\n",
        "val_acc = history.history['val_accuracy']\n",
        "loss = history.history['loss']\n",
        "val_loss = history.history['val_loss']\n",
        "epochs = range(len(acc))\n",
        "\n",
        "plt.figure(figsize=(12, 6))\n",
        "plt.plot(epochs, acc, 'r', label='Training Accuracy')\n",
        "plt.plot(epochs, val_acc, 'b', label='Validation Accuracy')\n",
        "plt.title('Training and Validation Accuracy')\n",
        "plt.legend(loc='lower right')\n",
        "plt.figure()\n",
        "\n",
        "plt.figure(figsize=(12, 6))\n",
        "plt.plot(epochs, loss, 'r', label='Training Loss')\n",
        "plt.plot(epochs, val_loss, 'b', label='Validation Loss')\n",
        "plt.title('Training and Validation Loss')\n",
        "plt.legend(loc='upper right')\n",
        "plt.show()"
      ],
      "metadata": {
        "id": "nXzFKYVOFWnZ"
      },
      "execution_count": null,
      "outputs": []
    },
    {
      "cell_type": "markdown",
      "source": [
        "#Fungsi untuk prediksi gambar yang di upload"
      ],
      "metadata": {
        "id": "GjBViS86FmmG"
      }
    },
    {
      "cell_type": "code",
      "source": [
        "def predict_image(img_path):\n",
        "    img = image.load_img(img_path, target_size=(150, 150))\n",
        "    img_array = image.img_to_array(img)\n",
        "    img_array = np.expand_dims(img_array, axis=0)\n",
        "    img_array /= 255.0\n",
        "\n",
        "    prediction = model.predict(img_array)\n",
        "    class_indices = {v: k for k, v in train_generator.class_indices.items()}\n",
        "    predicted_class = class_indices[np.argmax(prediction)]\n",
        "    return predicted_class\n",
        "\n",
        "\n",
        "uploaded = files.upload()\n",
        "\n",
        "for fn in uploaded.keys():\n",
        "    img_path = fn\n",
        "    predicted_class = predict_image(img_path)\n",
        "    print(f'Kelas yang diprediksi untuk gambar yang diupload adalah: {predicted_class}')\n",
        "\n",
        "    img = image.load_img(img_path, target_size=(150, 150))\n",
        "    plt.imshow(img)\n",
        "    plt.title(predicted_class)\n",
        "    plt.axis('off')\n",
        "    plt.show()"
      ],
      "metadata": {
        "id": "KtXALWlQFqk5"
      },
      "execution_count": null,
      "outputs": []
    }
  ]
}